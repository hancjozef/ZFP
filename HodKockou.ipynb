{
 "cells": [
  {
   "cell_type": "markdown",
   "metadata": {},
   "source": [
    "**Základné fyzikálne praktikum I**, Jozef Hanč, PF UPJŠ v Košiciach  \n",
    "<font size=2> Kópiu tohto notebooku nájdete v [Google učebni](classroom.google.com) v priečinku **Študijné materiály, ťaháky, kontakty**  \n",
    "Postupne pomocou klávesov `Shift+Enter` vykonajte jednotlivé bloky dokumentu. </font>\n",
    "***\n",
    "# <font color=brown> Pojem pravdepodobnosti - Monte Carlo simulácie </font>\n",
    "\n",
    "Náhodné experimenty vykonávané na počítači boli vymyslené fyzikmi v tajnom projekte Manhattan, čo bol krycí názov pre projekt vývoja atómovej bomby. Tieto experimenty fyzici nazvali *Monte Carlo simulácie* (skr. MC simulácie)\n",
    "podľa slávneho kasína Monte Carlo v Monacu. Viac si môžete prečítať v texte [Neistoty, pravdepodobnosť a kasíno Monte Carlo](https://docs.google.com/document/d/1_PXdo3by5z5rYFxaKW5msWbhrt3mB_lUYVisYbH_31I/preview)."
   ]
  },
  {
   "cell_type": "markdown",
   "metadata": {},
   "source": [
    "### Hod kockou - Geogebra\n",
    "- simuláciu ovládate tlačidlami `hod` - hodiť kockou, `odznova` - spustiť hádzanie kockou odznova\n",
    "- na začiatku vždy kliknite `odznova`\n",
    "- posúvaním hnedého bodu možno merať hodnoty pravdepodobnosti v grafe\n",
    "- simulácia priamo na Geogebra stránke (https://ggbm.at/suqjz5mx)"
   ]
  },
  {
   "cell_type": "code",
   "execution_count": 1,
   "metadata": {
    "scrolled": false
   },
   "outputs": [
    {
     "data": {
      "text/html": [
       "\n",
       "        <iframe\n",
       "            width=\"900\"\n",
       "            height=\"450\"\n",
       "            src=\"https://www.geogebra.org/material/iframe/id/suqjz5mx/\"\n",
       "            frameborder=\"0\"\n",
       "            allowfullscreen\n",
       "        ></iframe>\n",
       "        "
      ],
      "text/plain": [
       "<IPython.lib.display.IFrame at 0x1933458ae48>"
      ]
     },
     "execution_count": 1,
     "metadata": {},
     "output_type": "execute_result"
    }
   ],
   "source": [
    "# stlačením SHIFT+Enter sprístupnite Geogebra simuláciu v Jupyteri \n",
    "from IPython.display import IFrame\n",
    "url=\"https://www.geogebra.org/material/iframe/id/suqjz5mx/\"\n",
    "IFrame(url, 900,450)"
   ]
  },
  {
   "cell_type": "markdown",
   "metadata": {},
   "source": [
    "### Hod N kockami naraz - Python\n",
    "- pomocou $\\,\\verb|Shift+Enter|\\,$ vykonávate jednotlivé bloky príkazov\n",
    "- pomocou $\\,\\verb|Ctrl+Enter|\\,$ vykonávate daný blok príkazov opakovane\n",
    "- v druhom bloku meníte len $N = 10^2, 10^3, 10^4, 10^5, 10^6$ hodov\n",
    "\n",
    "<font size=2>**Pozn.** V Pythone možno zadať napr. 1000 mincí v skrátenom tvare $\\,\\verb|10**3|\\,$, kde 2 znaky násobenia ** (2 hviezdičky z numerickej klávesnice)   \n",
    "znamenajú umocnenie, t.j. $\\,\\verb|**3|\\,$ znamená umocnenie na tretiu.</font>"
   ]
  },
  {
   "cell_type": "code",
   "execution_count": 9,
   "metadata": {},
   "outputs": [
    {
     "name": "stdout",
     "output_type": "stream",
     "text": [
      "[22. 14. 23. 13. 16. 12.]\n",
      "[6 4 5 3 3 6 4 2 2 1 1 1 2 2 1 3 1 3 2 3 3 5 5 5 2 6 1 4 1 4 3 4 1 3 1 3 3\n",
      " 4 1 6 6 1 4 3 3 5 6 1 1 5 5 2 2 3 6 1 3 3 3 1 3 2 3 5 4 6 5 1 5 6 5 2 4 1\n",
      " 3 4 3 2 5 1 4 5 4 3 2 1 3 5 1 2 6 4 5 1 6 3 5 1 2 6]\n"
     ]
    }
   ],
   "source": [
    "# Načítanie knižnice numerický python - numpy, ktorá vie robiť MC simulácie\n",
    "# knižnici numpy sme dali skrátené meno np\n",
    "import numpy as np\n",
    "\n",
    "\n",
    "# hod N kockami naraz - N hodov naraz\n",
    "N = 100\n",
    "hody = np.random.randint(1,7,size = N)\n",
    "rel_pocetnosti = np.bincount(hody)/N*100\n",
    "\n",
    "# zobrazenie pocetnosti a vygenerovaných hodov (až 1000)\n",
    "print(rel_pocetnosti[1:])\n",
    "print(hody[:1000])"
   ]
  },
  {
   "cell_type": "code",
   "execution_count": 10,
   "metadata": {},
   "outputs": [
    {
     "data": {
      "text/html": [
       "<div>\n",
       "<style scoped>\n",
       "    .dataframe tbody tr th:only-of-type {\n",
       "        vertical-align: middle;\n",
       "    }\n",
       "\n",
       "    .dataframe tbody tr th {\n",
       "        vertical-align: top;\n",
       "    }\n",
       "\n",
       "    .dataframe thead th {\n",
       "        text-align: right;\n",
       "    }\n",
       "</style>\n",
       "<table border=\"1\" class=\"dataframe\">\n",
       "  <thead>\n",
       "    <tr style=\"text-align: right;\">\n",
       "      <th></th>\n",
       "      <th>hod</th>\n",
       "      <th>relatívna početnosť</th>\n",
       "    </tr>\n",
       "  </thead>\n",
       "  <tbody>\n",
       "    <tr>\n",
       "      <td>0</td>\n",
       "      <td>1</td>\n",
       "      <td>22.0</td>\n",
       "    </tr>\n",
       "    <tr>\n",
       "      <td>1</td>\n",
       "      <td>2</td>\n",
       "      <td>14.0</td>\n",
       "    </tr>\n",
       "    <tr>\n",
       "      <td>2</td>\n",
       "      <td>3</td>\n",
       "      <td>23.0</td>\n",
       "    </tr>\n",
       "    <tr>\n",
       "      <td>3</td>\n",
       "      <td>4</td>\n",
       "      <td>13.0</td>\n",
       "    </tr>\n",
       "    <tr>\n",
       "      <td>4</td>\n",
       "      <td>5</td>\n",
       "      <td>16.0</td>\n",
       "    </tr>\n",
       "    <tr>\n",
       "      <td>5</td>\n",
       "      <td>6</td>\n",
       "      <td>12.0</td>\n",
       "    </tr>\n",
       "  </tbody>\n",
       "</table>\n",
       "</div>"
      ],
      "text/plain": [
       "   hod  relatívna početnosť\n",
       "0    1                 22.0\n",
       "1    2                 14.0\n",
       "2    3                 23.0\n",
       "3    4                 13.0\n",
       "4    5                 16.0\n",
       "5    6                 12.0"
      ]
     },
     "metadata": {},
     "output_type": "display_data"
    },
    {
     "data": {
      "image/png": "[encoded data removed]",
      "text/plain": [
       "<Figure size 432x288 with 1 Axes>"
      ]
     },
     "metadata": {
      "needs_background": "light"
     },
     "output_type": "display_data"
    }
   ],
   "source": [
    "# načítanie knižnice pandas, ktorá vie zobrazovať tabuľky aj základné grafy\n",
    "import pandas as pd\n",
    "\n",
    "# číselná a grafická sumarizácia vo forme tabuľky a grafu\n",
    "tabulka =  pd.DataFrame({'hod':[1,2,3,4,5,6], 'relatívna početnosť':rel_pocetnosti[1:]})\n",
    "display(tabulka)\n",
    "stlpcovygraf = tabulka.plot.bar(x='hod', y='relatívna početnosť', rot=0)"
   ]
  },
  {
   "cell_type": "markdown",
   "metadata": {},
   "source": [
    "# <font color=brown> Vysvetlivky príkazov v Pythone </font>"
   ]
  },
  {
   "cell_type": "markdown",
   "metadata": {},
   "source": [
    "### **Príkaz**  `np.random.randint(1,7,size = N)`\n",
    "- $\\verb|np|$ - vyberám príkaz z knižnice numpy\n",
    "- $\\verb|random|$ - idem do časti knižnice numpy, ktorá vie robiť náhodné pokusy (*ang. random = náhodný*)\n",
    "- $\\verb|randint|$ - týmto príkazom budem generovať náhodné čísla s rovnakou pravdepodobnoťou  \n",
    "  a budú to celé čísla (*randint je skratka ang. random integer - náhodné celé čísla*).  \n",
    "```\n",
    "parametre príkazu (1,7, size = N) - náhodné celé čísla budú väčšie rovné ako 1 a menšie ako 7, t.j. 1, 2,...,6 a bude ich N\n",
    "```\n",
    "- celý príkaz je tak vlastne generovanie čísel 1 až 6 s rovnakou pravdepodobnosťou,  \n",
    "  čo je to isté ako hod ideálnou kockou."
   ]
  }
 ],
 "metadata": {
  "kernelspec": {
   "display_name": "Python 3",
   "language": "python",
   "name": "python3"
  },
  "language_info": {
   "codemirror_mode": {
    "name": "ipython",
    "version": 3
   },
   "file_extension": ".py",
   "mimetype": "text/x-python",
   "name": "python",
   "nbconvert_exporter": "python",
   "pygments_lexer": "ipython3",
   "version": "3.7.4"
  }
 },
 "nbformat": 4,
 "nbformat_minor": 1
}
