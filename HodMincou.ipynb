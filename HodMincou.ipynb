{
 "cells": [
  {
   "cell_type": "markdown",
   "metadata": {},
   "source": [
    "**Základné fyzikálne praktikum I**, Jozef Hanč, PF UPJŠ v Košiciach  \n",
    "<font size=2> Kópiu tohto notebooku nájdete v [Google učebni](classroom.google.com) v priečinku **Študijné materiály, ťaháky, kontakty**  \n",
    "Postupne pomocou klávesov `Shift+Enter` vykonajte jednotlivé bloky dokumentu. </font>\n",
    "***\n",
    "# <font color=brown> Pojem pravdepodobnosti - Monte Carlo simulácie </font>\n",
    "\n",
    "Náhodné experimenty vykonávané na počítači boli vymyslené fyzikmi v tajnom projekte Manhattan, čo bol krycí názov pre projekt vývoja atómovej bomby. Tieto experimenty fyzici nazvali *Monte Carlo simulácie* (skr. MC simulácie)\n",
    "podľa slávneho kasína Monte Carlo v Monacu. Viac ste sa mohli dozvedieť v texte [Neistoty, pravdepodobnosť a kasíno Monte Carlo](https://docs.google.com/document/d/1_PXdo3by5z5rYFxaKW5msWbhrt3mB_lUYVisYbH_31I/preview)."
   ]
  },
  {
   "cell_type": "markdown",
   "metadata": {},
   "source": [
    "### Hod mincou - Geogebra\n",
    "- Znak (Z), Písmo (P)\n",
    "- simuláciu ovládate tlačidlami `hod` - hodiť si, `odznova` - spustiť hádzanie mincou odznova\n",
    "- na začiatku vždy kliknite `odznova`\n",
    "- posúvaním hnedého bodu možno merať hodnoty pravdepodobnosti v grafe\n",
    "- simulácia priamo na Geogebra stránke (https://ggbm.at/vg47yz5n)"
   ]
  },
  {
   "cell_type": "code",
   "execution_count": 1,
   "metadata": {},
   "outputs": [
    {
     "data": {
      "text/html": [
       "\n",
       "        <iframe\n",
       "            width=\"900\"\n",
       "            height=\"450\"\n",
       "            src=\"https://www.geogebra.org/material/iframe/id/vg47yz5n\"\n",
       "            frameborder=\"0\"\n",
       "            allowfullscreen\n",
       "        ></iframe>\n",
       "        "
      ],
      "text/plain": [
       "<IPython.lib.display.IFrame at 0x10ae8e7e848>"
      ]
     },
     "execution_count": 1,
     "metadata": {},
     "output_type": "execute_result"
    }
   ],
   "source": [
    "# stlačením SHIFT+Enter sprístupnite Geogebra simuláciu v Jupyteri \n",
    "from IPython.display import IFrame\n",
    "url=\"https://www.geogebra.org/material/iframe/id/vg47yz5n\"\n",
    "IFrame(url, 900,450)"
   ]
  },
  {
   "cell_type": "markdown",
   "metadata": {},
   "source": [
    "### Hod N mincami naraz - Python\n",
    "- pomocou `Shift+Enter` vykonávate jednotlivé bloky príkazov\n",
    "- pomocou `Ctrl+Enter` vykonávate daný blok príkazov opakovane\n",
    "- v druhom bloku meníte len $N = 10^2, 10^3, 10^4, 10^5, 10^6$ hodov\n",
    "\n",
    "<font size=2>**Pozn.** V Pythone možno zadať napr. 1000 mincí v skrátenom tvare $\\,\\verb|10**3|\\,$, kde 2 znaky násobenia ** (2 hviezdičky z numerickej klávesnice)   \n",
    "znamenajú umocnenie, t.j. $\\,\\verb|**3|\\,$ znamená umocnenie na tretiu. </font>"
   ]
  },
  {
   "cell_type": "code",
   "execution_count": 63,
   "metadata": {},
   "outputs": [
    {
     "name": "stdout",
     "output_type": "stream",
     "text": [
      "[60. 40.]\n",
      "[0 0 1 0 1 1 1 0 0 0]\n"
     ]
    }
   ],
   "source": [
    "# načítanie knižnice príkazov nazývanej numerický python - numpy, ktorá vie robiť MC simulácie\n",
    "# knižnici numpy sme dali skrátené meno np\n",
    "import numpy as np\n",
    "\n",
    "# hod N mincami naraz: 0-písmo, 1 - znak\n",
    "N = 10\n",
    "hody = np.random.randint(0,2, size = N)\n",
    "rel_pocetnosti = np.bincount(hody)/N*100\n",
    "\n",
    "# zobrazenie percentuálnych pocetnosti a vygenerovaných hodov (až 1000)\n",
    "print(rel_pocetnosti)\n",
    "print(hody[:1000])"
   ]
  },
  {
   "cell_type": "code",
   "execution_count": 66,
   "metadata": {},
   "outputs": [
    {
     "data": {
      "text/html": [
       "<div>\n",
       "<style scoped>\n",
       "    .dataframe tbody tr th:only-of-type {\n",
       "        vertical-align: middle;\n",
       "    }\n",
       "\n",
       "    .dataframe tbody tr th {\n",
       "        vertical-align: top;\n",
       "    }\n",
       "\n",
       "    .dataframe thead th {\n",
       "        text-align: right;\n",
       "    }\n",
       "</style>\n",
       "<table border=\"1\" class=\"dataframe\">\n",
       "  <thead>\n",
       "    <tr style=\"text-align: right;\">\n",
       "      <th></th>\n",
       "      <th>hod</th>\n",
       "      <th>relatívna početnosť</th>\n",
       "    </tr>\n",
       "  </thead>\n",
       "  <tbody>\n",
       "    <tr>\n",
       "      <td>0</td>\n",
       "      <td>P</td>\n",
       "      <td>60.0</td>\n",
       "    </tr>\n",
       "    <tr>\n",
       "      <td>1</td>\n",
       "      <td>Z</td>\n",
       "      <td>40.0</td>\n",
       "    </tr>\n",
       "  </tbody>\n",
       "</table>\n",
       "</div>"
      ],
      "text/plain": [
       "  hod  relatívna početnosť\n",
       "0   P                 60.0\n",
       "1   Z                 40.0"
      ]
     },
     "metadata": {},
     "output_type": "display_data"
    },
    {
     "data": {
      "image/png": "[encoded data removed]",
      "text/plain": [
       "<Figure size 432x288 with 1 Axes>"
      ]
     },
     "metadata": {
      "needs_background": "light"
     },
     "output_type": "display_data"
    }
   ],
   "source": [
    "# načítanie knižnice pandas, ktorá vie zobrazovať tabuľky aj základné grafy\n",
    "import pandas as pd\n",
    "\n",
    "# číselná a grafická sumarizácia vo forme tabuľky a grafu\n",
    "tabulka =  pd.DataFrame({'hod':['P','Z'], 'relatívna početnosť':rel_pocetnosti})\n",
    "display(tabulka)\n",
    "stlpcovygraf = tabulka.plot.bar(x='hod', y='relatívna početnosť', rot=0)"
   ]
  },
  {
   "cell_type": "markdown",
   "metadata": {},
   "source": [
    "# <font color=brown> Vysvetlivky príkazov v Pythone </font>"
   ]
  },
  {
   "cell_type": "markdown",
   "metadata": {},
   "source": [
    "### **Príkazy**  `np.random.randint(0,2,size = N)` a `np.bincount(hody)/N*100`\n",
    "- $\\verb|np|$ - vyberám príkaz z knižnice numpy\n",
    "- $\\verb|random|$ - idem do časti knižnice numpy, ktorá vie robiť náhodné pokusy (*ang. random = náhodný*)\n",
    "- $\\verb|randint|$ - týmto príkazom budem generovať náhodné čísla s rovnakou pravdepodobnoťou  \n",
    "  a budú to celé čísla (*randint je skratka ang. random integer - náhodné celé čísla*).  \n",
    "```\n",
    "parametre príkazu (0,2, size = N) - náhodné celé čísla budú väčšie rovné ako 0 a menšie ako 2, t.j. 0,1 a bude ich N\n",
    "```\n",
    "- celý príkaz je tak vlastne generovanie čísel 0 a 1 s rovnakou pravdepodobnosťou,  \n",
    "  čo je to isté ako hod ideálnou mincou, kde napr. 0 reprezentuje znak a 1 písmo alebo naopak.\n",
    "  \n",
    "- $\\verb|bincount|$ zráta početnosti jednotlivých hodnôt v danej pamäti, u nás `hody`\n",
    "- $\\verb|/N*100|$ prepočíta početnosti na percentá, tzv. relatívne početnosti"
   ]
  },
  {
   "cell_type": "markdown",
   "metadata": {},
   "source": [
    "### **Príkaz**  `pd.DataFrame({'hod':['P','Z'], 'relatívna početnosť':rel_pocetnosti})`\n",
    "- $\\verb|pd|$ - vyberám príkaz z knižnice pandas\n",
    "- $\\verb|DataFrame|$ - týmto príkazom vytváram tabuľky v tvare `{'názov 1. stĺpca': [zoznam hodnôt], 'názov 2. stĺpca': [zoznam hodnôt]}`  \n",
    "(*ang. DataFrame = tabuľka dát*)"
   ]
  },
  {
   "cell_type": "markdown",
   "metadata": {},
   "source": [
    "### **Príkaz** `tabulka.plot.bar(x='hod', y='početnosť', rot=0)`\n",
    "- $\\verb|plot.bar|$ - týmto príkazom budem z tabuľky kresliť stĺpcový graf \n",
    "```\n",
    "parametre príkazu (x='hod', y='početnosť', rot=0) - na osi x bude stĺpec hod z tabuľky a na osi y stĺpec počestnosť, pričom popisky na osi nebudú nijako otočené (rot = 0)\n",
    "```\n",
    "- celý príkaz je tak vlastne vykreslenie stĺcového grafu na základe zadanej tabuľky"
   ]
  }
 ],
 "metadata": {
  "kernelspec": {
   "display_name": "Python 3",
   "language": "python",
   "name": "python3"
  },
  "language_info": {
   "codemirror_mode": {
    "name": "ipython",
    "version": 3
   },
   "file_extension": ".py",
   "mimetype": "text/x-python",
   "name": "python",
   "nbconvert_exporter": "python",
   "pygments_lexer": "ipython3",
   "version": "3.7.4"
  }
 },
 "nbformat": 4,
 "nbformat_minor": 1
}
